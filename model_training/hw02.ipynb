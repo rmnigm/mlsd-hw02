{
 "cells": [
  {
   "cell_type": "code",
   "execution_count": 1,
   "metadata": {},
   "outputs": [],
   "source": [
    "from sklearn.metrics import mean_squared_error, r2_score, mean_absolute_percentage_error\n",
    "from catboost import CatBoostRegressor\n",
    "from sklearn.ensemble import RandomForestRegressor\n",
    "from models import RidgeWithMLP, RidgeWithGBRT\n",
    "\n",
    "from get_dataset import get_dataset_with_features, split_dataset_to_train_and_validation"
   ]
  },
  {
   "cell_type": "code",
   "execution_count": 2,
   "metadata": {},
   "outputs": [
    {
     "name": "stderr",
     "output_type": "stream",
     "text": [
      "\u001b[34m\u001b[1mwandb\u001b[0m: Using wandb-core as the SDK backend.  Please refer to https://wandb.me/wandb-core for more information.\n",
      "\u001b[34m\u001b[1mwandb\u001b[0m: Currently logged in as: \u001b[33mrmnigm\u001b[0m to \u001b[32mhttps://api.wandb.ai\u001b[0m. Use \u001b[1m`wandb login --relogin`\u001b[0m to force relogin\n"
     ]
    },
    {
     "data": {
      "text/plain": [
       "True"
      ]
     },
     "execution_count": 2,
     "metadata": {},
     "output_type": "execute_result"
    }
   ],
   "source": [
    "import wandb\n",
    "wandb.login()"
   ]
  },
  {
   "cell_type": "code",
   "execution_count": 3,
   "metadata": {},
   "outputs": [],
   "source": [
    "def train_run(config=None):\n",
    "    with wandb.init(config=config):\n",
    "        config = wandb.config\n",
    "        model = model_provider(config)\n",
    "        (\n",
    "            train_X,\n",
    "            train_y,\n",
    "            validation_X,\n",
    "            validation_y,\n",
    "        ) = split_dataset_to_train_and_validation(*get_dataset_with_features())\n",
    "        model.fit(train_X, train_y)\n",
    "        y_pred = model.predict(validation_X)\n",
    "        y_true = validation_y\n",
    "        rmse = mean_squared_error(y_true, y_pred) ** 0.5\n",
    "        r2 = r2_score(y_true, y_pred)\n",
    "        mape = mean_absolute_percentage_error(y_true, y_pred)\n",
    "        wandb.sklearn.plot_regressor(\n",
    "            model, train_X, validation_X, train_y, validation_y,\n",
    "            model_name=f\"{config['model']}\"\n",
    "            )\n",
    "        wandb.sklearn.plot_learning_curve(model, train_X, train_y)\n",
    "        wandb.log({\"RMSE\": rmse, \"R2\": r2, \"MAPE\": mape, })"
   ]
  },
  {
   "cell_type": "code",
   "execution_count": 4,
   "metadata": {},
   "outputs": [
    {
     "name": "stdout",
     "output_type": "stream",
     "text": [
      "Create sweep with ID: yrsmme6p\n",
      "Sweep URL: https://wandb.ai/rmnigm/mlsd-hw02/sweeps/yrsmme6p\n"
     ]
    },
    {
     "name": "stderr",
     "output_type": "stream",
     "text": [
      "\u001b[34m\u001b[1mwandb\u001b[0m: Agent Starting Run: 0wkhtp96 with config:\n",
      "\u001b[34m\u001b[1mwandb\u001b[0m: \tmodel: catboost\n"
     ]
    },
    {
     "data": {
      "text/html": [
       "Tracking run with wandb version 0.19.8"
      ],
      "text/plain": [
       "<IPython.core.display.HTML object>"
      ]
     },
     "metadata": {},
     "output_type": "display_data"
    },
    {
     "data": {
      "text/html": [
       "Run data is saved locally in <code>/Users/rmnigm/study/mlsd/hw02/wandb/run-20250325_214325-0wkhtp96</code>"
      ],
      "text/plain": [
       "<IPython.core.display.HTML object>"
      ]
     },
     "metadata": {},
     "output_type": "display_data"
    },
    {
     "data": {
      "text/html": [
       "Syncing run <strong><a href='https://wandb.ai/rmnigm/mlsd-hw02/runs/0wkhtp96' target=\"_blank\">generous-sweep-1</a></strong> to <a href='https://wandb.ai/rmnigm/mlsd-hw02' target=\"_blank\">Weights & Biases</a> (<a href='https://wandb.me/developer-guide' target=\"_blank\">docs</a>)<br>Sweep page: <a href='https://wandb.ai/rmnigm/mlsd-hw02/sweeps/yrsmme6p' target=\"_blank\">https://wandb.ai/rmnigm/mlsd-hw02/sweeps/yrsmme6p</a>"
      ],
      "text/plain": [
       "<IPython.core.display.HTML object>"
      ]
     },
     "metadata": {},
     "output_type": "display_data"
    },
    {
     "data": {
      "text/html": [
       " View project at <a href='https://wandb.ai/rmnigm/mlsd-hw02' target=\"_blank\">https://wandb.ai/rmnigm/mlsd-hw02</a>"
      ],
      "text/plain": [
       "<IPython.core.display.HTML object>"
      ]
     },
     "metadata": {},
     "output_type": "display_data"
    },
    {
     "data": {
      "text/html": [
       " View sweep at <a href='https://wandb.ai/rmnigm/mlsd-hw02/sweeps/yrsmme6p' target=\"_blank\">https://wandb.ai/rmnigm/mlsd-hw02/sweeps/yrsmme6p</a>"
      ],
      "text/plain": [
       "<IPython.core.display.HTML object>"
      ]
     },
     "metadata": {},
     "output_type": "display_data"
    },
    {
     "data": {
      "text/html": [
       " View run at <a href='https://wandb.ai/rmnigm/mlsd-hw02/runs/0wkhtp96' target=\"_blank\">https://wandb.ai/rmnigm/mlsd-hw02/runs/0wkhtp96</a>"
      ],
      "text/plain": [
       "<IPython.core.display.HTML object>"
      ]
     },
     "metadata": {},
     "output_type": "display_data"
    },
    {
     "name": "stderr",
     "output_type": "stream",
     "text": [
      "\u001b[34m\u001b[1mwandb\u001b[0m: \n",
      "\u001b[34m\u001b[1mwandb\u001b[0m: Plotting catboost.\n",
      "\u001b[34m\u001b[1mwandb\u001b[0m: Logged summary metrics.\n",
      "\u001b[34m\u001b[1mwandb\u001b[0m: Logged learning curve.\n",
      "\u001b[34m\u001b[1mwandb\u001b[0m: Logged outlier candidates.\n",
      "\u001b[34m\u001b[1mwandb\u001b[0m: \u001b[33mWARNING\u001b[0m using only the first 100 datapoints to create chart residuals\n",
      "\u001b[34m\u001b[1mwandb\u001b[0m: Logged residuals.\n"
     ]
    },
    {
     "data": {
      "text/html": [],
      "text/plain": [
       "<IPython.core.display.HTML object>"
      ]
     },
     "metadata": {},
     "output_type": "display_data"
    },
    {
     "data": {
      "text/html": [
       "<br>    <style><br>        .wandb-row {<br>            display: flex;<br>            flex-direction: row;<br>            flex-wrap: wrap;<br>            justify-content: flex-start;<br>            width: 100%;<br>        }<br>        .wandb-col {<br>            display: flex;<br>            flex-direction: column;<br>            flex-basis: 100%;<br>            flex: 1;<br>            padding: 10px;<br>        }<br>    </style><br><div class=\"wandb-row\"><div class=\"wandb-col\"><h3>Run history:</h3><br/><table class=\"wandb\"><tr><td>MAPE</td><td>▁</td></tr><tr><td>R2</td><td>▁</td></tr><tr><td>RMSE</td><td>▁</td></tr></table><br/></div><div class=\"wandb-col\"><h3>Run summary:</h3><br/><table class=\"wandb\"><tr><td>MAPE</td><td>0.02496</td></tr><tr><td>R2</td><td>0.52843</td></tr><tr><td>RMSE</td><td>6.63588</td></tr></table><br/></div></div>"
      ],
      "text/plain": [
       "<IPython.core.display.HTML object>"
      ]
     },
     "metadata": {},
     "output_type": "display_data"
    },
    {
     "data": {
      "text/html": [
       " View run <strong style=\"color:#cdcd00\">generous-sweep-1</strong> at: <a href='https://wandb.ai/rmnigm/mlsd-hw02/runs/0wkhtp96' target=\"_blank\">https://wandb.ai/rmnigm/mlsd-hw02/runs/0wkhtp96</a><br> View project at: <a href='https://wandb.ai/rmnigm/mlsd-hw02' target=\"_blank\">https://wandb.ai/rmnigm/mlsd-hw02</a><br>Synced 5 W&B file(s), 5 media file(s), 8 artifact file(s) and 0 other file(s)"
      ],
      "text/plain": [
       "<IPython.core.display.HTML object>"
      ]
     },
     "metadata": {},
     "output_type": "display_data"
    },
    {
     "data": {
      "text/html": [
       "Find logs at: <code>./wandb/run-20250325_214325-0wkhtp96/logs</code>"
      ],
      "text/plain": [
       "<IPython.core.display.HTML object>"
      ]
     },
     "metadata": {},
     "output_type": "display_data"
    },
    {
     "name": "stderr",
     "output_type": "stream",
     "text": [
      "\u001b[34m\u001b[1mwandb\u001b[0m: Agent Starting Run: tjjmy8tn with config:\n",
      "\u001b[34m\u001b[1mwandb\u001b[0m: \tmodel: random_forest\n"
     ]
    },
    {
     "data": {
      "text/html": [
       "Tracking run with wandb version 0.19.8"
      ],
      "text/plain": [
       "<IPython.core.display.HTML object>"
      ]
     },
     "metadata": {},
     "output_type": "display_data"
    },
    {
     "data": {
      "text/html": [
       "Run data is saved locally in <code>/Users/rmnigm/study/mlsd/hw02/wandb/run-20250325_214427-tjjmy8tn</code>"
      ],
      "text/plain": [
       "<IPython.core.display.HTML object>"
      ]
     },
     "metadata": {},
     "output_type": "display_data"
    },
    {
     "data": {
      "text/html": [
       "Syncing run <strong><a href='https://wandb.ai/rmnigm/mlsd-hw02/runs/tjjmy8tn' target=\"_blank\">trim-sweep-2</a></strong> to <a href='https://wandb.ai/rmnigm/mlsd-hw02' target=\"_blank\">Weights & Biases</a> (<a href='https://wandb.me/developer-guide' target=\"_blank\">docs</a>)<br>Sweep page: <a href='https://wandb.ai/rmnigm/mlsd-hw02/sweeps/yrsmme6p' target=\"_blank\">https://wandb.ai/rmnigm/mlsd-hw02/sweeps/yrsmme6p</a>"
      ],
      "text/plain": [
       "<IPython.core.display.HTML object>"
      ]
     },
     "metadata": {},
     "output_type": "display_data"
    },
    {
     "data": {
      "text/html": [
       " View project at <a href='https://wandb.ai/rmnigm/mlsd-hw02' target=\"_blank\">https://wandb.ai/rmnigm/mlsd-hw02</a>"
      ],
      "text/plain": [
       "<IPython.core.display.HTML object>"
      ]
     },
     "metadata": {},
     "output_type": "display_data"
    },
    {
     "data": {
      "text/html": [
       " View sweep at <a href='https://wandb.ai/rmnigm/mlsd-hw02/sweeps/yrsmme6p' target=\"_blank\">https://wandb.ai/rmnigm/mlsd-hw02/sweeps/yrsmme6p</a>"
      ],
      "text/plain": [
       "<IPython.core.display.HTML object>"
      ]
     },
     "metadata": {},
     "output_type": "display_data"
    },
    {
     "data": {
      "text/html": [
       " View run at <a href='https://wandb.ai/rmnigm/mlsd-hw02/runs/tjjmy8tn' target=\"_blank\">https://wandb.ai/rmnigm/mlsd-hw02/runs/tjjmy8tn</a>"
      ],
      "text/plain": [
       "<IPython.core.display.HTML object>"
      ]
     },
     "metadata": {},
     "output_type": "display_data"
    },
    {
     "name": "stderr",
     "output_type": "stream",
     "text": [
      "\u001b[34m\u001b[1mwandb\u001b[0m: \n",
      "\u001b[34m\u001b[1mwandb\u001b[0m: Plotting random_forest.\n",
      "/Users/rmnigm/study/mlsd/.venv/lib/python3.12/site-packages/sklearn/utils/validation.py:2739: UserWarning: X does not have valid feature names, but RandomForestRegressor was fitted with feature names\n",
      "  warnings.warn(\n",
      "\u001b[34m\u001b[1mwandb\u001b[0m: Logged summary metrics.\n",
      "\u001b[34m\u001b[1mwandb\u001b[0m: Logged learning curve.\n",
      "/Users/rmnigm/study/mlsd/.venv/lib/python3.12/site-packages/sklearn/utils/validation.py:2739: UserWarning: X does not have valid feature names, but RandomForestRegressor was fitted with feature names\n",
      "  warnings.warn(\n",
      "\u001b[34m\u001b[1mwandb\u001b[0m: Logged outlier candidates.\n",
      "/Users/rmnigm/study/mlsd/.venv/lib/python3.12/site-packages/sklearn/utils/validation.py:2739: UserWarning: X does not have valid feature names, but RandomForestRegressor was fitted with feature names\n",
      "  warnings.warn(\n",
      "\u001b[34m\u001b[1mwandb\u001b[0m: \u001b[33mWARNING\u001b[0m using only the first 100 datapoints to create chart residuals\n",
      "\u001b[34m\u001b[1mwandb\u001b[0m: Logged residuals.\n"
     ]
    },
    {
     "data": {
      "text/html": [],
      "text/plain": [
       "<IPython.core.display.HTML object>"
      ]
     },
     "metadata": {},
     "output_type": "display_data"
    },
    {
     "data": {
      "text/html": [
       "<br>    <style><br>        .wandb-row {<br>            display: flex;<br>            flex-direction: row;<br>            flex-wrap: wrap;<br>            justify-content: flex-start;<br>            width: 100%;<br>        }<br>        .wandb-col {<br>            display: flex;<br>            flex-direction: column;<br>            flex-basis: 100%;<br>            flex: 1;<br>            padding: 10px;<br>        }<br>    </style><br><div class=\"wandb-row\"><div class=\"wandb-col\"><h3>Run history:</h3><br/><table class=\"wandb\"><tr><td>MAPE</td><td>▁</td></tr><tr><td>R2</td><td>▁</td></tr><tr><td>RMSE</td><td>▁</td></tr></table><br/></div><div class=\"wandb-col\"><h3>Run summary:</h3><br/><table class=\"wandb\"><tr><td>MAPE</td><td>0.02919</td></tr><tr><td>R2</td><td>0.29219</td></tr><tr><td>RMSE</td><td>8.12988</td></tr></table><br/></div></div>"
      ],
      "text/plain": [
       "<IPython.core.display.HTML object>"
      ]
     },
     "metadata": {},
     "output_type": "display_data"
    },
    {
     "data": {
      "text/html": [
       " View run <strong style=\"color:#cdcd00\">trim-sweep-2</strong> at: <a href='https://wandb.ai/rmnigm/mlsd-hw02/runs/tjjmy8tn' target=\"_blank\">https://wandb.ai/rmnigm/mlsd-hw02/runs/tjjmy8tn</a><br> View project at: <a href='https://wandb.ai/rmnigm/mlsd-hw02' target=\"_blank\">https://wandb.ai/rmnigm/mlsd-hw02</a><br>Synced 5 W&B file(s), 5 media file(s), 10 artifact file(s) and 0 other file(s)"
      ],
      "text/plain": [
       "<IPython.core.display.HTML object>"
      ]
     },
     "metadata": {},
     "output_type": "display_data"
    },
    {
     "data": {
      "text/html": [
       "Find logs at: <code>./wandb/run-20250325_214427-tjjmy8tn/logs</code>"
      ],
      "text/plain": [
       "<IPython.core.display.HTML object>"
      ]
     },
     "metadata": {},
     "output_type": "display_data"
    },
    {
     "name": "stderr",
     "output_type": "stream",
     "text": [
      "\u001b[34m\u001b[1mwandb\u001b[0m: Agent Starting Run: 8djenuwj with config:\n",
      "\u001b[34m\u001b[1mwandb\u001b[0m: \tmodel: linear_with_gbrt\n"
     ]
    },
    {
     "data": {
      "text/html": [
       "Tracking run with wandb version 0.19.8"
      ],
      "text/plain": [
       "<IPython.core.display.HTML object>"
      ]
     },
     "metadata": {},
     "output_type": "display_data"
    },
    {
     "data": {
      "text/html": [
       "Run data is saved locally in <code>/Users/rmnigm/study/mlsd/hw02/wandb/run-20250325_214453-8djenuwj</code>"
      ],
      "text/plain": [
       "<IPython.core.display.HTML object>"
      ]
     },
     "metadata": {},
     "output_type": "display_data"
    },
    {
     "data": {
      "text/html": [
       "Syncing run <strong><a href='https://wandb.ai/rmnigm/mlsd-hw02/runs/8djenuwj' target=\"_blank\">fresh-sweep-3</a></strong> to <a href='https://wandb.ai/rmnigm/mlsd-hw02' target=\"_blank\">Weights & Biases</a> (<a href='https://wandb.me/developer-guide' target=\"_blank\">docs</a>)<br>Sweep page: <a href='https://wandb.ai/rmnigm/mlsd-hw02/sweeps/yrsmme6p' target=\"_blank\">https://wandb.ai/rmnigm/mlsd-hw02/sweeps/yrsmme6p</a>"
      ],
      "text/plain": [
       "<IPython.core.display.HTML object>"
      ]
     },
     "metadata": {},
     "output_type": "display_data"
    },
    {
     "data": {
      "text/html": [
       " View project at <a href='https://wandb.ai/rmnigm/mlsd-hw02' target=\"_blank\">https://wandb.ai/rmnigm/mlsd-hw02</a>"
      ],
      "text/plain": [
       "<IPython.core.display.HTML object>"
      ]
     },
     "metadata": {},
     "output_type": "display_data"
    },
    {
     "data": {
      "text/html": [
       " View sweep at <a href='https://wandb.ai/rmnigm/mlsd-hw02/sweeps/yrsmme6p' target=\"_blank\">https://wandb.ai/rmnigm/mlsd-hw02/sweeps/yrsmme6p</a>"
      ],
      "text/plain": [
       "<IPython.core.display.HTML object>"
      ]
     },
     "metadata": {},
     "output_type": "display_data"
    },
    {
     "data": {
      "text/html": [
       " View run at <a href='https://wandb.ai/rmnigm/mlsd-hw02/runs/8djenuwj' target=\"_blank\">https://wandb.ai/rmnigm/mlsd-hw02/runs/8djenuwj</a>"
      ],
      "text/plain": [
       "<IPython.core.display.HTML object>"
      ]
     },
     "metadata": {},
     "output_type": "display_data"
    },
    {
     "name": "stderr",
     "output_type": "stream",
     "text": [
      "\u001b[34m\u001b[1mwandb\u001b[0m: \n",
      "\u001b[34m\u001b[1mwandb\u001b[0m: Plotting linear_with_gbrt.\n",
      "/Users/rmnigm/study/mlsd/.venv/lib/python3.12/site-packages/sklearn/utils/validation.py:2739: UserWarning: X does not have valid feature names, but Ridge was fitted with feature names\n",
      "  warnings.warn(\n",
      "\u001b[34m\u001b[1mwandb\u001b[0m: Logged summary metrics.\n",
      "/Users/rmnigm/study/mlsd/.venv/lib/python3.12/site-packages/sklearn/linear_model/_ridge.py:254: UserWarning: Singular matrix in solving dual problem. Using least-squares solution instead.\n",
      "  warnings.warn(\n",
      "/Users/rmnigm/study/mlsd/.venv/lib/python3.12/site-packages/sklearn/linear_model/_ridge.py:254: UserWarning: Singular matrix in solving dual problem. Using least-squares solution instead.\n",
      "  warnings.warn(\n",
      "/Users/rmnigm/study/mlsd/.venv/lib/python3.12/site-packages/sklearn/linear_model/_ridge.py:215: LinAlgWarning: Ill-conditioned matrix (rcond=2.08063e-33): result may not be accurate.\n",
      "  return linalg.solve(A, Xy, assume_a=\"pos\", overwrite_a=True).T\n",
      "/Users/rmnigm/study/mlsd/.venv/lib/python3.12/site-packages/sklearn/linear_model/_ridge.py:254: UserWarning: Singular matrix in solving dual problem. Using least-squares solution instead.\n",
      "  warnings.warn(\n",
      "/Users/rmnigm/study/mlsd/.venv/lib/python3.12/site-packages/sklearn/linear_model/_ridge.py:254: UserWarning: Singular matrix in solving dual problem. Using least-squares solution instead.\n",
      "  warnings.warn(\n",
      "/Users/rmnigm/study/mlsd/.venv/lib/python3.12/site-packages/sklearn/linear_model/_ridge.py:254: UserWarning: Singular matrix in solving dual problem. Using least-squares solution instead.\n",
      "  warnings.warn(\n",
      "\u001b[34m\u001b[1mwandb\u001b[0m: Logged learning curve.\n",
      "/Users/rmnigm/study/mlsd/.venv/lib/python3.12/site-packages/sklearn/utils/validation.py:2739: UserWarning: X does not have valid feature names, but Ridge was fitted with feature names\n",
      "  warnings.warn(\n",
      "\u001b[34m\u001b[1mwandb\u001b[0m: Logged outlier candidates.\n",
      "/Users/rmnigm/study/mlsd/.venv/lib/python3.12/site-packages/sklearn/utils/validation.py:2739: UserWarning: X does not have valid feature names, but Ridge was fitted with feature names\n",
      "  warnings.warn(\n",
      "\u001b[34m\u001b[1mwandb\u001b[0m: \u001b[33mWARNING\u001b[0m using only the first 100 datapoints to create chart residuals\n",
      "\u001b[34m\u001b[1mwandb\u001b[0m: Logged residuals.\n",
      "/Users/rmnigm/study/mlsd/.venv/lib/python3.12/site-packages/sklearn/linear_model/_ridge.py:254: UserWarning: Singular matrix in solving dual problem. Using least-squares solution instead.\n",
      "  warnings.warn(\n",
      "/Users/rmnigm/study/mlsd/.venv/lib/python3.12/site-packages/sklearn/linear_model/_ridge.py:254: UserWarning: Singular matrix in solving dual problem. Using least-squares solution instead.\n",
      "  warnings.warn(\n",
      "/Users/rmnigm/study/mlsd/.venv/lib/python3.12/site-packages/sklearn/linear_model/_ridge.py:215: LinAlgWarning: Ill-conditioned matrix (rcond=2.08063e-33): result may not be accurate.\n",
      "  return linalg.solve(A, Xy, assume_a=\"pos\", overwrite_a=True).T\n",
      "/Users/rmnigm/study/mlsd/.venv/lib/python3.12/site-packages/sklearn/linear_model/_ridge.py:254: UserWarning: Singular matrix in solving dual problem. Using least-squares solution instead.\n",
      "  warnings.warn(\n",
      "/Users/rmnigm/study/mlsd/.venv/lib/python3.12/site-packages/sklearn/linear_model/_ridge.py:254: UserWarning: Singular matrix in solving dual problem. Using least-squares solution instead.\n",
      "  warnings.warn(\n",
      "/Users/rmnigm/study/mlsd/.venv/lib/python3.12/site-packages/sklearn/linear_model/_ridge.py:254: UserWarning: Singular matrix in solving dual problem. Using least-squares solution instead.\n",
      "  warnings.warn(\n"
     ]
    },
    {
     "data": {
      "text/html": [],
      "text/plain": [
       "<IPython.core.display.HTML object>"
      ]
     },
     "metadata": {},
     "output_type": "display_data"
    },
    {
     "data": {
      "text/html": [
       "<br>    <style><br>        .wandb-row {<br>            display: flex;<br>            flex-direction: row;<br>            flex-wrap: wrap;<br>            justify-content: flex-start;<br>            width: 100%;<br>        }<br>        .wandb-col {<br>            display: flex;<br>            flex-direction: column;<br>            flex-basis: 100%;<br>            flex: 1;<br>            padding: 10px;<br>        }<br>    </style><br><div class=\"wandb-row\"><div class=\"wandb-col\"><h3>Run history:</h3><br/><table class=\"wandb\"><tr><td>MAPE</td><td>▁</td></tr><tr><td>R2</td><td>▁</td></tr><tr><td>RMSE</td><td>▁</td></tr></table><br/></div><div class=\"wandb-col\"><h3>Run summary:</h3><br/><table class=\"wandb\"><tr><td>MAPE</td><td>0.02097</td></tr><tr><td>R2</td><td>0.6471</td></tr><tr><td>RMSE</td><td>5.74055</td></tr></table><br/></div></div>"
      ],
      "text/plain": [
       "<IPython.core.display.HTML object>"
      ]
     },
     "metadata": {},
     "output_type": "display_data"
    },
    {
     "data": {
      "text/html": [
       " View run <strong style=\"color:#cdcd00\">fresh-sweep-3</strong> at: <a href='https://wandb.ai/rmnigm/mlsd-hw02/runs/8djenuwj' target=\"_blank\">https://wandb.ai/rmnigm/mlsd-hw02/runs/8djenuwj</a><br> View project at: <a href='https://wandb.ai/rmnigm/mlsd-hw02' target=\"_blank\">https://wandb.ai/rmnigm/mlsd-hw02</a><br>Synced 5 W&B file(s), 5 media file(s), 8 artifact file(s) and 0 other file(s)"
      ],
      "text/plain": [
       "<IPython.core.display.HTML object>"
      ]
     },
     "metadata": {},
     "output_type": "display_data"
    },
    {
     "data": {
      "text/html": [
       "Find logs at: <code>./wandb/run-20250325_214453-8djenuwj/logs</code>"
      ],
      "text/plain": [
       "<IPython.core.display.HTML object>"
      ]
     },
     "metadata": {},
     "output_type": "display_data"
    },
    {
     "name": "stderr",
     "output_type": "stream",
     "text": [
      "\u001b[34m\u001b[1mwandb\u001b[0m: Agent Starting Run: xuccbhin with config:\n",
      "\u001b[34m\u001b[1mwandb\u001b[0m: \tmodel: linear_with_mlp\n"
     ]
    },
    {
     "data": {
      "text/html": [
       "Tracking run with wandb version 0.19.8"
      ],
      "text/plain": [
       "<IPython.core.display.HTML object>"
      ]
     },
     "metadata": {},
     "output_type": "display_data"
    },
    {
     "data": {
      "text/html": [
       "Run data is saved locally in <code>/Users/rmnigm/study/mlsd/hw02/wandb/run-20250325_214515-xuccbhin</code>"
      ],
      "text/plain": [
       "<IPython.core.display.HTML object>"
      ]
     },
     "metadata": {},
     "output_type": "display_data"
    },
    {
     "data": {
      "text/html": [
       "Syncing run <strong><a href='https://wandb.ai/rmnigm/mlsd-hw02/runs/xuccbhin' target=\"_blank\">vivid-sweep-4</a></strong> to <a href='https://wandb.ai/rmnigm/mlsd-hw02' target=\"_blank\">Weights & Biases</a> (<a href='https://wandb.me/developer-guide' target=\"_blank\">docs</a>)<br>Sweep page: <a href='https://wandb.ai/rmnigm/mlsd-hw02/sweeps/yrsmme6p' target=\"_blank\">https://wandb.ai/rmnigm/mlsd-hw02/sweeps/yrsmme6p</a>"
      ],
      "text/plain": [
       "<IPython.core.display.HTML object>"
      ]
     },
     "metadata": {},
     "output_type": "display_data"
    },
    {
     "data": {
      "text/html": [
       " View project at <a href='https://wandb.ai/rmnigm/mlsd-hw02' target=\"_blank\">https://wandb.ai/rmnigm/mlsd-hw02</a>"
      ],
      "text/plain": [
       "<IPython.core.display.HTML object>"
      ]
     },
     "metadata": {},
     "output_type": "display_data"
    },
    {
     "data": {
      "text/html": [
       " View sweep at <a href='https://wandb.ai/rmnigm/mlsd-hw02/sweeps/yrsmme6p' target=\"_blank\">https://wandb.ai/rmnigm/mlsd-hw02/sweeps/yrsmme6p</a>"
      ],
      "text/plain": [
       "<IPython.core.display.HTML object>"
      ]
     },
     "metadata": {},
     "output_type": "display_data"
    },
    {
     "data": {
      "text/html": [
       " View run at <a href='https://wandb.ai/rmnigm/mlsd-hw02/runs/xuccbhin' target=\"_blank\">https://wandb.ai/rmnigm/mlsd-hw02/runs/xuccbhin</a>"
      ],
      "text/plain": [
       "<IPython.core.display.HTML object>"
      ]
     },
     "metadata": {},
     "output_type": "display_data"
    },
    {
     "name": "stderr",
     "output_type": "stream",
     "text": [
      "\u001b[34m\u001b[1mwandb\u001b[0m: \n",
      "\u001b[34m\u001b[1mwandb\u001b[0m: Plotting linear_with_mlp.\n",
      "/Users/rmnigm/study/mlsd/.venv/lib/python3.12/site-packages/sklearn/utils/validation.py:2739: UserWarning: X does not have valid feature names, but Ridge was fitted with feature names\n",
      "  warnings.warn(\n",
      "\u001b[34m\u001b[1mwandb\u001b[0m: Logged summary metrics.\n",
      "/Users/rmnigm/study/mlsd/.venv/lib/python3.12/site-packages/sklearn/linear_model/_ridge.py:254: UserWarning: Singular matrix in solving dual problem. Using least-squares solution instead.\n",
      "  warnings.warn(\n",
      "/Users/rmnigm/study/mlsd/.venv/lib/python3.12/site-packages/sklearn/neural_network/_multilayer_perceptron.py:691: ConvergenceWarning: Stochastic Optimizer: Maximum iterations (1000) reached and the optimization hasn't converged yet.\n",
      "  warnings.warn(\n",
      "/Users/rmnigm/study/mlsd/.venv/lib/python3.12/site-packages/sklearn/linear_model/_ridge.py:254: UserWarning: Singular matrix in solving dual problem. Using least-squares solution instead.\n",
      "  warnings.warn(\n",
      "/Users/rmnigm/study/mlsd/.venv/lib/python3.12/site-packages/sklearn/linear_model/_ridge.py:215: LinAlgWarning: Ill-conditioned matrix (rcond=2.08063e-33): result may not be accurate.\n",
      "  return linalg.solve(A, Xy, assume_a=\"pos\", overwrite_a=True).T\n",
      "/Users/rmnigm/study/mlsd/.venv/lib/python3.12/site-packages/sklearn/linear_model/_ridge.py:254: UserWarning: Singular matrix in solving dual problem. Using least-squares solution instead.\n",
      "  warnings.warn(\n",
      "/Users/rmnigm/study/mlsd/.venv/lib/python3.12/site-packages/sklearn/linear_model/_ridge.py:254: UserWarning: Singular matrix in solving dual problem. Using least-squares solution instead.\n",
      "  warnings.warn(\n",
      "/Users/rmnigm/study/mlsd/.venv/lib/python3.12/site-packages/sklearn/linear_model/_ridge.py:254: UserWarning: Singular matrix in solving dual problem. Using least-squares solution instead.\n",
      "  warnings.warn(\n",
      "/Users/rmnigm/study/mlsd/.venv/lib/python3.12/site-packages/sklearn/neural_network/_multilayer_perceptron.py:691: ConvergenceWarning: Stochastic Optimizer: Maximum iterations (1000) reached and the optimization hasn't converged yet.\n",
      "  warnings.warn(\n",
      "\u001b[34m\u001b[1mwandb\u001b[0m: Logged learning curve.\n",
      "/Users/rmnigm/study/mlsd/.venv/lib/python3.12/site-packages/sklearn/utils/validation.py:2739: UserWarning: X does not have valid feature names, but Ridge was fitted with feature names\n",
      "  warnings.warn(\n",
      "\u001b[34m\u001b[1mwandb\u001b[0m: Logged outlier candidates.\n",
      "/Users/rmnigm/study/mlsd/.venv/lib/python3.12/site-packages/sklearn/utils/validation.py:2739: UserWarning: X does not have valid feature names, but Ridge was fitted with feature names\n",
      "  warnings.warn(\n",
      "\u001b[34m\u001b[1mwandb\u001b[0m: \u001b[33mWARNING\u001b[0m using only the first 100 datapoints to create chart residuals\n",
      "\u001b[34m\u001b[1mwandb\u001b[0m: Logged residuals.\n",
      "/Users/rmnigm/study/mlsd/.venv/lib/python3.12/site-packages/sklearn/linear_model/_ridge.py:254: UserWarning: Singular matrix in solving dual problem. Using least-squares solution instead.\n",
      "  warnings.warn(\n",
      "/Users/rmnigm/study/mlsd/.venv/lib/python3.12/site-packages/sklearn/neural_network/_multilayer_perceptron.py:691: ConvergenceWarning: Stochastic Optimizer: Maximum iterations (1000) reached and the optimization hasn't converged yet.\n",
      "  warnings.warn(\n",
      "/Users/rmnigm/study/mlsd/.venv/lib/python3.12/site-packages/sklearn/linear_model/_ridge.py:254: UserWarning: Singular matrix in solving dual problem. Using least-squares solution instead.\n",
      "  warnings.warn(\n",
      "/Users/rmnigm/study/mlsd/.venv/lib/python3.12/site-packages/sklearn/linear_model/_ridge.py:215: LinAlgWarning: Ill-conditioned matrix (rcond=2.08063e-33): result may not be accurate.\n",
      "  return linalg.solve(A, Xy, assume_a=\"pos\", overwrite_a=True).T\n",
      "/Users/rmnigm/study/mlsd/.venv/lib/python3.12/site-packages/sklearn/linear_model/_ridge.py:254: UserWarning: Singular matrix in solving dual problem. Using least-squares solution instead.\n",
      "  warnings.warn(\n",
      "/Users/rmnigm/study/mlsd/.venv/lib/python3.12/site-packages/sklearn/linear_model/_ridge.py:254: UserWarning: Singular matrix in solving dual problem. Using least-squares solution instead.\n",
      "  warnings.warn(\n",
      "/Users/rmnigm/study/mlsd/.venv/lib/python3.12/site-packages/sklearn/neural_network/_multilayer_perceptron.py:691: ConvergenceWarning: Stochastic Optimizer: Maximum iterations (1000) reached and the optimization hasn't converged yet.\n",
      "  warnings.warn(\n",
      "/Users/rmnigm/study/mlsd/.venv/lib/python3.12/site-packages/sklearn/linear_model/_ridge.py:254: UserWarning: Singular matrix in solving dual problem. Using least-squares solution instead.\n",
      "  warnings.warn(\n"
     ]
    },
    {
     "data": {
      "text/html": [],
      "text/plain": [
       "<IPython.core.display.HTML object>"
      ]
     },
     "metadata": {},
     "output_type": "display_data"
    },
    {
     "data": {
      "text/html": [
       "<br>    <style><br>        .wandb-row {<br>            display: flex;<br>            flex-direction: row;<br>            flex-wrap: wrap;<br>            justify-content: flex-start;<br>            width: 100%;<br>        }<br>        .wandb-col {<br>            display: flex;<br>            flex-direction: column;<br>            flex-basis: 100%;<br>            flex: 1;<br>            padding: 10px;<br>        }<br>    </style><br><div class=\"wandb-row\"><div class=\"wandb-col\"><h3>Run history:</h3><br/><table class=\"wandb\"><tr><td>MAPE</td><td>▁</td></tr><tr><td>R2</td><td>▁</td></tr><tr><td>RMSE</td><td>▁</td></tr></table><br/></div><div class=\"wandb-col\"><h3>Run summary:</h3><br/><table class=\"wandb\"><tr><td>MAPE</td><td>368.3125</td></tr><tr><td>R2</td><td>-154668282.39446</td></tr><tr><td>RMSE</td><td>120178.25152</td></tr></table><br/></div></div>"
      ],
      "text/plain": [
       "<IPython.core.display.HTML object>"
      ]
     },
     "metadata": {},
     "output_type": "display_data"
    },
    {
     "data": {
      "text/html": [
       " View run <strong style=\"color:#cdcd00\">vivid-sweep-4</strong> at: <a href='https://wandb.ai/rmnigm/mlsd-hw02/runs/xuccbhin' target=\"_blank\">https://wandb.ai/rmnigm/mlsd-hw02/runs/xuccbhin</a><br> View project at: <a href='https://wandb.ai/rmnigm/mlsd-hw02' target=\"_blank\">https://wandb.ai/rmnigm/mlsd-hw02</a><br>Synced 5 W&B file(s), 5 media file(s), 10 artifact file(s) and 0 other file(s)"
      ],
      "text/plain": [
       "<IPython.core.display.HTML object>"
      ]
     },
     "metadata": {},
     "output_type": "display_data"
    },
    {
     "data": {
      "text/html": [
       "Find logs at: <code>./wandb/run-20250325_214515-xuccbhin/logs</code>"
      ],
      "text/plain": [
       "<IPython.core.display.HTML object>"
      ]
     },
     "metadata": {},
     "output_type": "display_data"
    }
   ],
   "source": [
    "def model_provider(config):\n",
    "    if config['model'] == 'catboost':\n",
    "        return CatBoostRegressor(verbose=False)\n",
    "    elif config['model'] == 'random_forest':\n",
    "        return RandomForestRegressor()\n",
    "    elif config['model'] == 'linear_with_gbrt':\n",
    "        return RidgeWithGBRT(tree_coef=0.8)\n",
    "    elif config['model'] == 'linear_with_mlp':\n",
    "        return RidgeWithMLP(mlp_coef=0.8)\n",
    "\n",
    "sweep_config = {\n",
    "    'method': 'grid',\n",
    "    'metric': {'name': 'MAPE', 'goal': 'minimize'},\n",
    "    'parameters': {\n",
    "        'model': {\"values\": [\"catboost\", \"random_forest\", \"linear_with_gbrt\", \"linear_with_mlp\"]}\n",
    "    }\n",
    "}\n",
    "sweep_id = wandb.sweep(sweep_config, project=\"mlsd-hw02\")\n",
    "wandb.agent(sweep_id, train_run, count=4)"
   ]
  },
  {
   "cell_type": "code",
   "execution_count": 4,
   "metadata": {},
   "outputs": [],
   "source": [
    "def model_provider(config):\n",
    "    if config['model'] == 'linear_with_gbrt':\n",
    "        return RidgeWithGBRT(\n",
    "            tree_coef=config[\"tree_coef\"],\n",
    "            tree_n_estimators=config[\"tree_n_estimators\"],\n",
    "            tree_depth=config[\"tree_depth\"],\n",
    "            tree_learning_rate=config[\"tree_learning_rate\"],\n",
    "            tree_l2_leaf_reg=config[\"tree_l2_leaf_reg\"],\n",
    "            ridge_alpha=config[\"ridge_alpha\"],\n",
    "        )\n",
    "    elif config['model'] == 'catboost':\n",
    "        return CatBoostRegressor(\n",
    "            verbose=False,\n",
    "            n_estimators=config[\"tree_n_estimators\"],\n",
    "            max_depth=config[\"tree_depth\"],\n",
    "            learning_rate=config[\"tree_learning_rate\"],\n",
    "            l2_leaf_reg=config[\"tree_l2_leaf_reg\"],\n",
    "        )"
   ]
  },
  {
   "cell_type": "code",
   "execution_count": 5,
   "metadata": {},
   "outputs": [
    {
     "name": "stdout",
     "output_type": "stream",
     "text": [
      "Create sweep with ID: ia7kw4ne\n",
      "Sweep URL: https://wandb.ai/rmnigm/mlsd-hw02/sweeps/ia7kw4ne\n"
     ]
    }
   ],
   "source": [
    "sweep_config = {\n",
    "    'method': 'bayes',\n",
    "    'metric': {'name': 'MAPE', 'goal': 'minimize'},\n",
    "    'parameters': {\n",
    "        'model': {\"values\": [\"linear_with_gbrt\", \"catboost\"]},\n",
    "        'ridge_alpha': {\n",
    "            'distribution': 'uniform',\n",
    "            'min': 0.001,\n",
    "            'max': 1.0,\n",
    "        },\n",
    "        'tree_coef': {\n",
    "            'distribution': 'uniform',\n",
    "            'min': 0.3,\n",
    "            'max': 1.0,\n",
    "        },\n",
    "        'tree_n_estimators': {\n",
    "            'distribution': 'q_log_uniform_values',\n",
    "            'min': 100,\n",
    "            'max': 1000,\n",
    "        },\n",
    "        'tree_depth': {\n",
    "            'distribution': 'q_log_uniform_values',\n",
    "            'min': 3,\n",
    "            'max': 8,\n",
    "        },\n",
    "        'tree_learning_rate': {\n",
    "            'distribution': 'uniform',\n",
    "            'min': 0.001,\n",
    "            'max': 0.1,\n",
    "        },\n",
    "        'tree_l2_leaf_reg': {\n",
    "            'distribution': 'uniform',\n",
    "            'min': 0.5,\n",
    "            'max': 5.0,\n",
    "        },\n",
    "    }\n",
    "}\n",
    "\n",
    "sweep_id = wandb.sweep(sweep_config, project=\"mlsd-hw02\")"
   ]
  },
  {
   "cell_type": "code",
   "execution_count": null,
   "metadata": {},
   "outputs": [],
   "source": [
    "wandb.agent(sweep_id, train_run, count=50)"
   ]
  }
 ],
 "metadata": {
  "kernelspec": {
   "display_name": ".venv",
   "language": "python",
   "name": "python3"
  },
  "language_info": {
   "codemirror_mode": {
    "name": "ipython",
    "version": 3
   },
   "file_extension": ".py",
   "mimetype": "text/x-python",
   "name": "python",
   "nbconvert_exporter": "python",
   "pygments_lexer": "ipython3",
   "version": "3.12.7"
  }
 },
 "nbformat": 4,
 "nbformat_minor": 2
}
